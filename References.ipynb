{
 "metadata": {
  "language_info": {
   "codemirror_mode": {
    "name": "ipython",
    "version": 3
   },
   "file_extension": ".py",
   "mimetype": "text/x-python",
   "name": "python",
   "nbconvert_exporter": "python",
   "pygments_lexer": "ipython3",
   "version": "3.7.6-final"
  },
  "orig_nbformat": 2,
  "kernelspec": {
   "name": "python376jvsc74a57bd0e2bb051c3a95a86268b1e5925f9284c842af364fdcd9f643d035a94eee81c863",
   "display_name": "Python 3.7.6 64-bit (conda)"
  },
  "metadata": {
   "interpreter": {
    "hash": "e2bb051c3a95a86268b1e5925f9284c842af364fdcd9f643d035a94eee81c863"
   }
  }
 },
 "nbformat": 4,
 "nbformat_minor": 2,
 "cells": [
  {
   "cell_type": "code",
   "execution_count": 34,
   "metadata": {},
   "outputs": [
    {
     "output_type": "stream",
     "name": "stdout",
     "text": [
      "Week number=  0    15\nName: week, dtype: UInt32\nDay of week number=  0    4\nName: Date, dtype: int64\n"
     ]
    }
   ],
   "source": [
    "# importing pandas as pd\n",
    "import pandas as pd \n",
    "  \n",
    "# creating a dictionary containing a date\n",
    "dict = {'Date':[\"2021-04-16\"]}\n",
    "  \n",
    "# converting the dictionary to a dataframe\n",
    "df = pd.DataFrame.from_dict(dict)\n",
    "  \n",
    "# converting the date to the required format\n",
    "df['Date'] = pd.to_datetime(df['Date'], errors ='coerce')\n",
    "df.astype('int64').dtypes\n",
    "  \n",
    "# extracting the week from the date\n",
    "weekNumber = df['Date'].dt.isocalendar().week\n",
    "dayOfWeek = df['Date'].dt.dayofweek\n",
    "  \n",
    "print(\"Week number= \" , weekNumber)\n",
    "print(\"Day of week number= \", dayOfWeek)"
   ]
  },
  {
   "cell_type": "code",
   "execution_count": null,
   "metadata": {},
   "outputs": [],
   "source": []
  }
 ]
}