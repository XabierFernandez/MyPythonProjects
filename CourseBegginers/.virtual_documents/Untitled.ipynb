import pandas as pd
import re



# Define the path to the log file
log_file_path = 'n3uron.log'

# Function to parse each log line
def parse_log_line(line):
    # Regular expression to match the log line format
    log_pattern = r'(?P<UTC_TS>\d{2}:\d{2}:\d{2}\.\d{3}) \| (?P<LEVEL>\w+) \| (?P<COMPONENT>[^->]+) -> (?P<MESSAGE>.+)'
    match = re.match(log_pattern, line)
    if match:
        return match.groupdict()
    else:
        return None

# Read the log file and parse each line
log_entries = []
with open(log_file_path, 'r') as log_file:
    for line in log_file:
        parsed_line = parse_log_line(line.strip())
        if parsed_line:
            log_entries.append(parsed_line)

# Convert the list of parsed log entries to a pandas DataFrame
df = pd.DataFrame(log_entries)

# Display the DataFrame
print(df)

# Optionally, save the DataFrame to a CSV file
df.to_csv('parsed_log.csv', index=False)

