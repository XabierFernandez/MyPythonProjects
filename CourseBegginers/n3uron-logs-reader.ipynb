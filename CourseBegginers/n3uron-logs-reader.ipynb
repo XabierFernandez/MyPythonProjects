{
 "cells": [
  {
   "cell_type": "code",
   "execution_count": 5,
   "id": "d02c41b3-79f4-4c44-ac4f-2858565bfc80",
   "metadata": {},
   "outputs": [],
   "source": [
    "import pandas as pd\n",
    "import re"
   ]
  },
  {
   "cell_type": "code",
   "execution_count": 7,
   "id": "fec35279-5a16-47f5-a0ae-6c312ea7cdc0",
   "metadata": {},
   "outputs": [
    {
     "name": "stdout",
     "output_type": "stream",
     "text": [
      "             UTC_TS  LEVEL            COMPONENT  \\\n",
      "0      10:31:21.918   INFO           FileLogger   \n",
      "1      10:31:59.659  DEBUG                 main   \n",
      "2      10:31:59.660  DEBUG                 main   \n",
      "3      10:31:59.660  DEBUG                 main   \n",
      "4      10:31:59.664  DEBUG                 main   \n",
      "...             ...    ...                  ...   \n",
      "23557  14:53:37.016  TRACE         Tag:/Trigger   \n",
      "23558  14:53:37.017  TRACE  Tag:/Tags/TestTag01   \n",
      "23559  14:53:37.017  TRACE  Tag:/Tags/TestTag02   \n",
      "23560  14:53:37.017  TRACE  Tag:/Tags/TestTag03   \n",
      "23561  14:53:40.900  DEBUG                 main   \n",
      "\n",
      "                                                 MESSAGE  \n",
      "0      Current config = {\"enabled\":true,\"level\":\"info...  \n",
      "1      info: {\"mode\":\"release\",\"name\":\"n3uron\",\"ts\":\"...  \n",
      "2                 Loading library/module: bootstrap-main  \n",
      "3      Loading file: /opt/n3uron/bin/bootstrap/bootst...  \n",
      "4                                         File loaded OK  \n",
      "...                                                  ...  \n",
      "23557  Historize, data={\"value\":false,\"quality\":192,\"...  \n",
      "23558  Historize, data={\"value\":60817,\"quality\":192,\"...  \n",
      "23559  Historize, data={\"value\":60817,\"quality\":192,\"...  \n",
      "23560  Historize, data={\"value\":60817,\"quality\":192,\"...  \n",
      "23561                                Code length: 0.2 kb  \n",
      "\n",
      "[23562 rows x 4 columns]\n"
     ]
    }
   ],
   "source": [
    "\n",
    "# Define the path to the log file\n",
    "log_file_path = 'n3uron.log'\n",
    "\n",
    "# Function to parse each log line\n",
    "def parse_log_line(line):\n",
    "    # Regular expression to match the log line format\n",
    "    log_pattern = r'(?P<UTC_TS>\\d{2}:\\d{2}:\\d{2}\\.\\d{3}) \\| (?P<LEVEL>\\w+) \\| (?P<COMPONENT>[^->]+) -> (?P<MESSAGE>.+)'\n",
    "    match = re.match(log_pattern, line)\n",
    "    if match:\n",
    "        return match.groupdict()\n",
    "    else:\n",
    "        return None\n",
    "\n",
    "# Read the log file and parse each line\n",
    "log_entries = []\n",
    "with open(log_file_path, 'r') as log_file:\n",
    "    for line in log_file:\n",
    "        parsed_line = parse_log_line(line.strip())\n",
    "        if parsed_line:\n",
    "            log_entries.append(parsed_line)\n",
    "\n",
    "# Convert the list of parsed log entries to a pandas DataFrame\n",
    "df = pd.DataFrame(log_entries)\n",
    "\n",
    "# Display the DataFrame\n",
    "print(df)\n",
    "\n",
    "# Optionally, save the DataFrame to a CSV file\n",
    "df.to_csv('parsed_log.csv', index=False)\n"
   ]
  }
 ],
 "metadata": {
  "kernelspec": {
   "display_name": "opencv_environment",
   "language": "python",
   "name": "opencv_environment"
  },
  "language_info": {
   "codemirror_mode": {
    "name": "ipython",
    "version": 3
   },
   "file_extension": ".py",
   "mimetype": "text/x-python",
   "name": "python",
   "nbconvert_exporter": "python",
   "pygments_lexer": "ipython3",
   "version": "3.12.3"
  }
 },
 "nbformat": 4,
 "nbformat_minor": 5
}
