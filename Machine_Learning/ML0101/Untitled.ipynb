{
 "cells": [
  {
   "cell_type": "code",
   "execution_count": 2,
   "metadata": {},
   "outputs": [
    {
     "ename": "SyntaxError",
     "evalue": "invalid syntax (<ipython-input-2-b3a0cf4698d2>, line 1)",
     "output_type": "error",
     "traceback": [
      "\u001b[0;36m  File \u001b[0;32m\"<ipython-input-2-b3a0cf4698d2>\"\u001b[0;36m, line \u001b[0;32m1\u001b[0m\n\u001b[0;31m    digraph finite_state_machine{\u001b[0m\n\u001b[0m                               ^\u001b[0m\n\u001b[0;31mSyntaxError\u001b[0m\u001b[0;31m:\u001b[0m invalid syntax\n"
     ]
    }
   ],
   "source": [
    "\n",
    "digraph finite_state_machine{\n",
    " rankdir=LR;\n",
    " size=\"8,5\"\n",
    " node [shape = doublecircle]; LR_0 LR_3 LR_4 LR_8;\n",
    " node [shape = circle];\n",
    " LR_0 -> LR_2 [ label = \"SS(B)\" ];\n",
    " LR_0 -> LR_1 [ label = \"SS(S)\" ];\n",
    " LR_1 -> LR_3 [ label = \"S($end)\" ];\n",
    " LR_2 -> LR_6 [ label = \"SS(b)\" ];\n",
    " LR_2 -> LR_5 [ label = \"SS(a)\" ];\n",
    " LR_2 -> LR_4 [ label = \"S(A)\" ];\n",
    " LR_5 -> LR_7 [ label = \"S(b)\" ];\n",
    " LR_5 -> LR_5 [ label = \"S(a)\" ];\n",
    " LR_6 -> LR_6 [ label = \"S(b)\" ];\n",
    " LR_6 -> LR_5 [ label = \"S(a)\" ];\n",
    " LR_7 -> LR_8 [ label = \"S(b)\" ];\n",
    " LR_7 -> LR_5 [ label = \"S(a)\" ];\n",
    " LR_8 -> LR_6 [ label = \"S(b)\" ];\n",
    " LR_8 -> LR_5 [ label = \"S(a)\" ];\n",
    "}"
   ]
  },
  {
   "cell_type": "code",
   "execution_count": null,
   "metadata": {},
   "outputs": [],
   "source": []
  }
 ],
 "metadata": {
  "kernelspec": {
   "display_name": "Python",
   "language": "python",
   "name": "conda-env-python-py"
  },
  "language_info": {
   "codemirror_mode": {
    "name": "ipython",
    "version": 3
   },
   "file_extension": ".py",
   "mimetype": "text/x-python",
   "name": "python",
   "nbconvert_exporter": "python",
   "pygments_lexer": "ipython3",
   "version": "3.6.11"
  }
 },
 "nbformat": 4,
 "nbformat_minor": 4
}
